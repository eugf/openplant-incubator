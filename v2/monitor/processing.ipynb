{
 "cells": [
  {
   "cell_type": "code",
   "execution_count": 1,
   "metadata": {},
   "outputs": [],
   "source": [
    "# import the necessary packages\n",
    "import os\n",
    "import cv2\n",
    "import time\n",
    "import logging\n",
    "import numpy as np\n",
    "import pandas as pd\n",
    "from math import atan2, pi, sqrt\n",
    "from matplotlib import pyplot as plt\n",
    "import matplotlib.image as mpimg\n",
    "\n",
    "# start logging\n",
    "\n",
    "logging.basicConfig()\n",
    "logger = logging.getLogger()\n",
    "logger.setLevel(level=logging.INFO)\n",
    "\n",
    "%matplotlib inline"
   ]
  },
  {
   "cell_type": "markdown",
   "metadata": {},
   "source": [
    "____"
   ]
  },
  {
   "cell_type": "code",
   "execution_count": 2,
   "metadata": {},
   "outputs": [],
   "source": [
    "# Create decorator for timing functions\n",
    "\n",
    "def timeit(method):\n",
    "    def timed(*args, **kw):\n",
    "        ts = time.time()\n",
    "        result = method(*args, **kw)\n",
    "        te = time.time()\n",
    "        if 'log_time' in kw:\n",
    "            name = kw.get('log_name', method.__name__.upper())\n",
    "            kw['log_time'][name] = int((te - ts))\n",
    "        else:\n",
    "            print('{0}  {1:2.2f} s'\n",
    "                  .format(method.__name__, (te - ts)))\n",
    "        return result\n",
    "    return timed"
   ]
  },
  {
   "cell_type": "code",
   "execution_count": 3,
   "metadata": {},
   "outputs": [],
   "source": [
    "# Apply hough transform\n",
    "\n",
    "@timeit\n",
    "def apply_hough_transform(img, min_rad=500, max_rad=None):\n",
    "    \"\"\"\n",
    "    Get the top resulting cricle from the hough circle transform\n",
    "    \"\"\"\n",
    "    # Get max rad\n",
    "    if max_rad is None:\n",
    "        max_rad = img.shape[0] // 2\n",
    "    # Convert to gray-scale\n",
    "    gray = cv2.cvtColor(img, cv2.COLOR_BGR2GRAY)\n",
    "    # Blur the image to reduce noise\n",
    "    img_blur = cv2.medianBlur(gray, 5)\n",
    "    # Get the circles\n",
    "    circles =\\\n",
    "        cv2.HoughCircles(img_blur, cv2.HOUGH_GRADIENT, 1,\n",
    "                         img.shape[0], param1=200, param2=10,\n",
    "                         minRadius=500, maxRadius=img.shape[0]//2)\n",
    "    # Return the top circle\n",
    "    top_circle = circles[0][0]\n",
    "    return top_circle"
   ]
  },
  {
   "cell_type": "code",
   "execution_count": 4,
   "metadata": {},
   "outputs": [],
   "source": [
    "# Crop image and strip background that is not circle\n",
    "\n",
    "@timeit\n",
    "def circle_crop(img, circle, buffer=0.1):\n",
    "    \"\"\"\n",
    "    Take input image and tuple that defines (x, y, r) of circle.\n",
    "    Buffer extends radius around center of circle and removes all outside of that zone.\n",
    "    \"\"\"\n",
    "    x, y, r = circle\n",
    "    # crop image\n",
    "    buffer = max([buffer, 0]) + 1\n",
    "    y_top = int(y - r * buffer)\n",
    "    y_bottom = int(y + r * buffer)\n",
    "    x_left = int(x - r * buffer)\n",
    "    x_right = int(x + r * buffer)\n",
    "    img_out = img[y_top:y_bottom, x_left:x_right].copy()\n",
    "    # adjust circle coordinates\n",
    "    new_xy = int(0 + r * buffer) + 0.5\n",
    "    circle = np.array([new_xy, new_xy, r])\n",
    "    return img_out, circle"
   ]
  },
  {
   "cell_type": "code",
   "execution_count": 5,
   "metadata": {},
   "outputs": [],
   "source": [
    "# Crop image and strip background that is not circle\n",
    "\n",
    "@timeit\n",
    "def circle_strip(img, circle, buffer=.1,\n",
    "                 background=(255, 255, 255), alpha=0):\n",
    "    \"\"\"\n",
    "    Take input image and tuple that defines (x, y, r) of circle.\n",
    "    If crop, remove all pixels outside of circle with alpha value.\n",
    "    Buffer defines square around center that will not be cropped.\n",
    "    If not crop, set all pixels outside of the cirlce to background.\n",
    "    \"\"\"\n",
    "    x, y, r = circle\n",
    "    img_out = []\n",
    "    if img.shape[2] == 3:\n",
    "        img = cv2.cvtColor(img, cv2.COLOR_BGR2RGBA)\n",
    "    for iy, _ in enumerate(img):\n",
    "        img_x = []\n",
    "        for ix, _ in enumerate(img[iy]):\n",
    "            pix = img[iy][ix]\n",
    "            if (ix - x) ** 2 + (iy - y) ** 2 > r ** 2:\n",
    "                if background is not None:\n",
    "                    pix = list(background)\n",
    "                    pix.append(255)\n",
    "                if alpha is not None:\n",
    "                    pix[3] = alpha\n",
    "            img_x.append(pix)\n",
    "        img_out.append(img_x)\n",
    "    img_out = np.array(img_out)\n",
    "    img_out = np.uint16(np.around(img_out))\n",
    "    return img_out"
   ]
  },
  {
   "cell_type": "code",
   "execution_count": 6,
   "metadata": {},
   "outputs": [],
   "source": [
    "# Draw detected circles\n",
    "\n",
    "@timeit\n",
    "def draw_circle(img, circle, center=True):\n",
    "    \"\"\"\n",
    "    Take image and circle, draw green outer perimeter,\n",
    "    put red dot in center\n",
    "    \"\"\"\n",
    "    img_out = img.copy()\n",
    "    circle = np.uint16(np.around(circle))\n",
    "    if img.shape[2] == 3:\n",
    "        outer_color = (0, 255, 0)\n",
    "        innner_color = (255, 0, 0)\n",
    "    elif img.shape[2] == 4:\n",
    "        outer_color = (0, 255, 0, 255)\n",
    "        innner_color = (255, 0, 0, 255)\n",
    "    else:\n",
    "        return img\n",
    "    # Draw outer circle\n",
    "    cv2.circle(img_out, (circle[0], circle[1]),\n",
    "               circle[2], outer_color, img.shape[0] // 100)\n",
    "    if center:\n",
    "        # Draw inner circle\n",
    "        cv2.circle(img_out, (circle[0], circle[1]),\n",
    "                   4, innner_color, img.shape[0] // 50)\n",
    "    return img_out"
   ]
  },
  {
   "cell_type": "code",
   "execution_count": 7,
   "metadata": {},
   "outputs": [],
   "source": [
    "# Get objects to help with band counts\n",
    "\n",
    "@timeit\n",
    "def band_wrap(img, circle, scale=(0.9, 0.95)):\n",
    "    \"\"\"\n",
    "    Take input image and tuple that defines (x, y, r) of circle.\n",
    "    Scale set to portion of radius analyzed for band sequence.\n",
    "    Reutrns image of average pixel colors as well as series\n",
    "    set to total distance away from black.\n",
    "    \"\"\"\n",
    "    x, y, r = circle\n",
    "    rad_dict = dict()\n",
    "    for iy, _ in enumerate(img):\n",
    "        for ix, _ in enumerate(img[iy]):\n",
    "            if (ix - x) ** 2 + (iy - y) ** 2 > (r * scale[1]) ** 2:\n",
    "                continue\n",
    "            if (ix - x) ** 2 + (iy - y) ** 2 < (r * scale[0]) ** 2:\n",
    "                continue\n",
    "            # add val to dict\n",
    "            pix = img[iy][ix]\n",
    "            rad = round(atan2(y - iy, ix - x), 2)\n",
    "            if rad not in rad_dict:\n",
    "                rad_dict[rad] = []\n",
    "            rad_dict[rad].append(pix)\n",
    "    # set dictionary averages\n",
    "    rad_dict = \\\n",
    "        {k:np.mean(v, axis=0) for k,v in rad_dict.items()}\n",
    "    # create ordered array 1/pi as wide as long\n",
    "    keys = sorted(list(rad_dict.keys()))\n",
    "    # create series\n",
    "    sqr = lambda e: e ** 2\n",
    "    cro = lambda e: sqrt(sum(map(sqr, e[:3])))\n",
    "    cser =\\\n",
    "        pd.Series([cro(rad_dict[k]) for k in keys], index=keys)\n",
    "    # build img_out\n",
    "    width = int(len(keys) / (pi * 2))\n",
    "    img_out = []\n",
    "    for k in keys:\n",
    "        l = list(rad_dict[k])\n",
    "        l = [l for i in range(width)]\n",
    "        img_out.append(l)\n",
    "    img_out = np.array(img_out)\n",
    "    img_out = np.uint16(np.around(img_out))\n",
    "    return img_out, cser"
   ]
  },
  {
   "cell_type": "code",
   "execution_count": 8,
   "metadata": {},
   "outputs": [],
   "source": [
    "# COUNT BANDS\n",
    "\n",
    "@timeit\n",
    "def count_bands(cser, tresh=100, min_rad=10):\n",
    "    mr = round(min_rad / 100, 2)\n",
    "    ts = cser[((cser > 100).astype(int).diff() == 1)]\n",
    "    ct = 0\n",
    "    if ts.shape[0] == 0:\n",
    "        return ct\n",
    "    it = ts.index[0] - mr\n",
    "    for i in ts.index:\n",
    "        dif = round(i - it, 2)\n",
    "        if dif >= mr:\n",
    "            ct += 1\n",
    "        it = i\n",
    "    return ct"
   ]
  },
  {
   "cell_type": "markdown",
   "metadata": {},
   "source": [
    "____"
   ]
  },
  {
   "cell_type": "code",
   "execution_count": 9,
   "metadata": {},
   "outputs": [],
   "source": [
    "# RUN PREP FUNCTION\n",
    "\n",
    "@timeit\n",
    "def prep_image(img_raw):    \n",
    "    circle = apply_hough_transform(img_raw)\n",
    "    img, circle = circle_crop(img_raw, circle)\n",
    "    img = circle_strip(img, circle)\n",
    "    return img, circle"
   ]
  },
  {
   "cell_type": "code",
   "execution_count": 12,
   "metadata": {},
   "outputs": [
    {
     "data": {
      "text/plain": [
       "<matplotlib.image.AxesImage at 0x194bfa18f60>"
      ]
     },
     "execution_count": 12,
     "metadata": {},
     "output_type": "execute_result"
    },
    {
     "data": {
      "image/png": "[encoded data removed]",
      "text/plain": [
       "<Figure size 432x288 with 1 Axes>"
      ]
     },
     "metadata": {},
     "output_type": "display_data"
    }
   ],
   "source": [
    "# LOAD DATA\n",
    "img_file = '../../data/raw/marpo_circle_0.jpg'\n",
    "img_raw = cv2.imread(img_file, cv2.IMREAD_COLOR)\n",
    "plt.imshow(img_raw)"
   ]
  },
  {
   "cell_type": "code",
   "execution_count": null,
   "metadata": {},
   "outputs": [],
   "source": [
    "# DISPLAY RENDERED OUTPUT\n",
    "\n",
    "img, circle = prep_image(img_raw)\n",
    "img_circle = draw_circle(img, circle)\n",
    "plt.imshow(img_circle)"
   ]
  },
  {
   "cell_type": "code",
   "execution_count": null,
   "metadata": {},
   "outputs": [],
   "source": [
    "# GET BAND PIC AND CSER\n",
    "\n",
    "band_pic, cser = band_wrap(img, circle)\n",
    "band_ct = count_bands(cser)"
   ]
  },
  {
   "cell_type": "code",
   "execution_count": null,
   "metadata": {},
   "outputs": [],
   "source": [
    "# OUTPUT IMAGES\n",
    "fig, ax = plt.subplots(2, 2, figsize=(11, 8))\n",
    "plt.suptitle('')\n",
    "ax[0][0].imshow(img_raw)\n",
    "ax[0][1].imshow(img_circle)\n",
    "ax[1][0].imshow(band_pic)\n",
    "cser.plot(ax=ax[1][1])\n",
    "plt.suptitle(f'ID: {band_ct}', size='xx-large')\n",
    "plt.show()\n",
    "out_dir = os.path.join(os.getcwd(), 'out')\n",
    "if not os.path.exists(out_dir):\n",
    "    os.mkdir(out_dir)\n",
    "#fig.savefig(os.path.join(out_dir, 'marpo_id.png'))"
   ]
  },
  {
   "cell_type": "markdown",
   "metadata": {},
   "source": [
    "_____"
   ]
  }
 ],
 "metadata": {
  "kernelspec": {
   "display_name": "Python 3",
   "language": "python",
   "name": "python3"
  },
  "language_info": {
   "codemirror_mode": {
    "name": "ipython",
    "version": 3
   },
   "file_extension": ".py",
   "mimetype": "text/x-python",
   "name": "python",
   "nbconvert_exporter": "python",
   "pygments_lexer": "ipython3",
   "version": "3.7.3"
  }
 },
 "nbformat": 4,
 "nbformat_minor": 2
}
